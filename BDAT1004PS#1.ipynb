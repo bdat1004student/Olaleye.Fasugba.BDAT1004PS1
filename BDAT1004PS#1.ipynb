{
 "cells": [
  {
   "cell_type": "markdown",
   "id": "82df180c",
   "metadata": {
    "slideshow": {
     "slide_type": "fragment"
    }
   },
   "source": [
    "<h3><font color='#004b87'>Question 1</font></h3>\n",
    "\n",
    "using System; //Visual Studio syntax\n",
    "\n",
    "namespace ConsoleApp5\n",
    "{\n",
    "    class Program\n",
    "    {\n",
    "        static void Main(string[] args)\n",
    "        {\n",
    "            //Declaring data variables\n",
    "            int myNum= 5; //Integer data type\n",
    "            double myDoubleNum = 5.0D; // Floating Point Number (Ref:ClassNote)\n",
    "            bool myBool = 5 > 1; //Boolean data type\n",
    "            string myStr = \"5\";//String Data Type\n",
    "            int myMulti = myNum *2 ; //using myNum with a value of 5\n",
    "            double myDivision = Math.Round(myDoubleNum / 2, 2);//using MyDoubleNum 5.0 \n",
    "            int myRemainder = myNum % 2; //Returns remainder after division\n",
    "            int[] items = new int[] { 5, 2, 1 };//Array data structure\n",
    "            bool mySecBool = 5==3; //Boolean data type\n",
    "            double myPi = Math.PI; // Getting system math pi \n",
    "\n",
    "            Console.WriteLine(\"Data Type of {0} is \" + myNum.GetType(), myNum);\n",
    "            Console.WriteLine(\"\\nData Type of {0} is \" + myDoubleNum.GetType(), myDoubleNum);\n",
    "            Console.WriteLine(\"\\nData Type of {0} is \" + myBool.GetType(), myBool);\n",
    "            Console.WriteLine(\"\\nData Type of {0} is \" + myStr.GetType(), myStr);\n",
    "            Console.WriteLine(\"\\nData Type of {0} is \" + myMulti.GetType(), myMulti);\n",
    "            Console.WriteLine(\"\\nData Type of {0} is \" + myDivision.GetType(), myDivision);\n",
    "            Console.WriteLine(\"\\nData Type of {0} is \" + myRemainder.GetType(), myRemainder);\n",
    "            Console.WriteLine(\"\\nData Type is \" + items.GetType());\n",
    "            Console.WriteLine(\"\\nData Type of {0} is \" + mySecBool.GetType(), mySecBool);\n",
    "            Console.WriteLine(\"\\nData Type of {0} is \" + myPi.GetType(), myPi);\n",
    "           \n",
    "        }\n",
    "    }\n",
    "}\n"
   ]
  },
  {
   "cell_type": "markdown",
   "id": "4f30af58",
   "metadata": {
    "slideshow": {
     "slide_type": "fragment"
    }
   },
   "source": [
    "<h3><font color='#004b87'>Question 2</font></h3>\n",
    "\n",
    "using System; //Visual Studio syntax\n",
    "using System.Collections;\n",
    "using System.Collections.Generic;\n",
    "\n",
    "namespace ConsoleApp5\n",
    "{\n",
    "    class Program\n",
    "    {\n",
    "        static void Main(string[] args)\n",
    "        {//Question 2\n",
    "            //Declaring variables\n",
    "            string str1 = \"Supercalifragilisticexpialidocious\";\n",
    "            string subStr = \"ice\";\n",
    "            string str2 = \"Honorificabilitudinitatibus\";\n",
    "            string str3 = \"Bababadalgharaghtakamminarronnkonn\";\n",
    "\n",
    "            //New Stack to get last element\n",
    "            Stack composers = new Stack();\n",
    "            composers.Push(\"Berlioz\");\n",
    "            composers.Push(\"Borodin\");\n",
    "            composers.Push(\"Brian\");\n",
    "            composers.Push(\"Bartok\");\n",
    "            composers.Push(\"Bellini\");\n",
    "            composers.Push(\"Buxtehude\");\n",
    "            composers.Push(\"Bernstein\");\n",
    "\n",
    "            // New Queue to get first element\n",
    "            Queue<string> composer = new Queue<string>();\n",
    "            composer.Enqueue(\"Berlioz\");\n",
    "            composer.Enqueue(\"Borodin\");\n",
    "            composer.Enqueue(\"Brian\");\n",
    "            composer.Enqueue(\"Bartok\");\n",
    "            composer.Enqueue(\"Bellini\");\n",
    "            composer.Enqueue(\"Buxtehude\");\n",
    "            composer.Enqueue(\"Bernstein\");\n",
    "\n",
    "\n",
    "            Console.WriteLine(\"The Length of {0} is \" + str1.Length,str1); //Question 2a\n",
    "            //Question 2b\n",
    "            if (str1.Contains(subStr))//checking if ice is contained in the word\n",
    "            Console.WriteLine(\"{0} contains {1}\", str1, subStr);\n",
    "\n",
    "            //Question 2c using a condition to find the longest of the three\n",
    "            if ((str1.Length> str2.Length) && (str1.Length > str3.Length))\n",
    "                Console.WriteLine(\"{0} is the longest of the three.\" , str1);\n",
    "            else if ((str2.Length > str3.Length)&& (str2.Length > str1.Length))\n",
    "                Console.WriteLine(\"{0} is the longest of the three.\", str2);\n",
    "            else\n",
    "                Console.WriteLine(\"{0} is the longest of the three.\", str3);\n",
    "            //Question 2d\n",
    "            Console.WriteLine(\"Peek element: \" + composers.Peek()); //last element\n",
    "            Console.WriteLine(\"Peek element: \" + composer.Peek());//first element\n",
    "            /*It's important to note we can use the list method to get these elements easily but I\n",
    "                stayed within the context of what was thought in class*/\n",
    "            \n",
    "\n",
    "           \n",
    "\n",
    "        }\n",
    "    }\n",
    "}\n",
    "\n",
    "    \n",
    "    "
   ]
  },
  {
   "cell_type": "markdown",
   "id": "611a0548",
   "metadata": {
    "slideshow": {
     "slide_type": "fragment"
    }
   },
   "source": [
    "<h3><font color='#004b87'>Question 3</font></h3>\n",
    "\n",
    "using System; //Visual Studio syntax\n",
    "\n",
    "namespace ConsoleApp5\n",
    "{\n",
    "    class Program\n",
    "    {\n",
    "     //Question 3\n",
    "        static void Main(string[] args)\n",
    "        {\n",
    "            Console.Write(\"Enter the first length:\");//user input \n",
    "            string aa = Console.ReadLine();\n",
    "            int a = Convert.ToInt32(aa); //converting user input into integer\n",
    "            Console.Write(\"Enter the second length:\");\n",
    "            string bb = Console.ReadLine();\n",
    "            int b = Convert.ToInt32(bb);\n",
    "            Console.Write(\"Enter the third length:\");\n",
    "            string cc = Console.ReadLine();\n",
    "            int c = Convert.ToInt32(cc);\n",
    "            int s = (a + b + c) / 2;\n",
    "            float result = (float)Math.Sqrt(s * (s - a) * (s - b) * (s - c));//heron's formula\n",
    "            Console.WriteLine(\"Using Heron's Formula,the triangle with length {0},{1},{2} has an area of {3}\", a, b, c, result);\n",
    "          \n",
    "        }      \n",
    "             \n",
    "    }\n",
    "}\n",
    "\n"
   ]
  },
  {
   "cell_type": "markdown",
   "id": "fbd94a69",
   "metadata": {},
   "source": [
    "<h3><font color='#004b87'>Question 4</font></h3>\n",
    "using System;//Visual Studio syntax\n",
    "using System.Collections.Generic;\n",
    "\n",
    "namespace ConsoleApp5\n",
    "{\n",
    "    class Program\n",
    "    {\n",
    "        static void Main(string[] args)\n",
    "        {\n",
    "\n",
    "            //Creating new list\n",
    "            List<int> Numbers = new List<int>(); ;\n",
    "           Numbers.Add(25);\n",
    "           Numbers.Add(47);\n",
    "           Numbers.Add(42);\n",
    "           Numbers.Add(56);\n",
    "           Numbers.Add(32);\n",
    "            List<int> Odds = new List<int>();\n",
    "            List<int> Evens = new List<int>();\n",
    "            foreach (int element in Numbers)\n",
    "            {\n",
    "                if (element % 2 == 0) //if remainder of division by 2 equals  0 then its even\n",
    "                {\n",
    "                    Evens.Add(element);\n",
    "                }\n",
    "                else if (element % 2 == 1) // if remainder of division by 2 equals  1 then its odd\n",
    "                {\n",
    "                    Odds.Add(element);\n",
    "                }\n",
    "            }\n",
    "\n",
    "            Console.WriteLine(\"Even Numbers are {0},{1},{2}\", Evens[0], Evens[1], Evens[2]); //print even numbers\n",
    "            Console.WriteLine(\"Odd Numbers are {0},{1}\", Odds[0], Odds[1]);//print odd numbers\n",
    "\n",
    "        }\n",
    "\n",
    "        \n",
    "\n",
    "\n",
    "        }\n",
    "    }\n"
   ]
  },
  {
   "cell_type": "markdown",
   "id": "6b97288d",
   "metadata": {},
   "source": [
    "<h3><font color='#004b87'>Question 5a</font></h3>\n",
    "using System;//Visual Studio syntax\n",
    "class Program\n",
    "{  \n",
    "\n",
    "\n",
    "\n",
    "//Here (x,y) is the point\n",
    "//(x1,y1) is the lower left corner\n",
    "//(x2,y2) is the upper right corner\n",
    "static bool inside(double x, double y, double x1, double y1, double x2, double y2)\n",
    "{\n",
    "\t//This the required given condition\n",
    "\tif (x > x1 && x < x2 && y > y1 && y < y2)\n",
    "    {\n",
    "\t\treturn true;\n",
    "\t}\n",
    "\treturn false;\n",
    "}\n",
    "\n",
    "    //Main function to run the program\n",
    "    public static void Main()\n",
    "    {\n",
    "        Console.WriteLine(inside(1, 1, 0, 0, 2, 3));\n",
    "        Console.WriteLine(inside(-1, -1, 0, 0, 2, 3));\n",
    "    }\n",
    "}\n",
    "\n"
   ]
  },
  {
   "cell_type": "markdown",
   "id": "c38f2b6a",
   "metadata": {},
   "source": [
    "<h3><font color='#004b87'>Question 5b</font></h3>\n",
    "//Visual Studio syntax \n",
    "using System;\n",
    "class Program\n",
    "{  //Question 5b\n",
    "\n",
    "\n",
    "\n",
    "//Here (x,y) is the point\n",
    "//(x1,y1) is the lower left corner\n",
    "//(x2,y2) is the upper right corner\n",
    "static bool inside(double x, double y, double x1, double y1, double x2, double y2)\n",
    "{\n",
    "\t//This the required given condition\n",
    "\tif (x > x1 && x < x2 && y > y1 && y < y2)\n",
    "    {\n",
    "\t\treturn true;\n",
    "\t}\n",
    "\treturn false;\n",
    "}\n",
    "\n",
    "\n",
    "    //Main function to run the program\n",
    "    public static void Main()\n",
    "    {\n",
    "        //First Expression\n",
    "        if (inside(1, 1, 0.3, 0.5, 1.1, 0.7))\n",
    "        {\n",
    "            Console.WriteLine(\"Yes, the given point lies inside the triangle.\");\n",
    "        }\n",
    "        else\n",
    "        {\n",
    "            Console.WriteLine(\"No, the given point does not lie inside the triangle.\");\n",
    "        }\n",
    "        //Second Expression\n",
    "        if (inside(1, 1, 0.5, 0.2, 1.1, 2))\n",
    "        {\n",
    "            Console.WriteLine(\"Yes, the given point lies inside the triangle.\");\n",
    "        }\n",
    "        else\n",
    "        {\n",
    "            Console.WriteLine(\"No, the given point does not lie inside the triangle.\");\n",
    "        }\n",
    "    }"
   ]
  },
  {
   "cell_type": "markdown",
   "id": "01e1d23b",
   "metadata": {},
   "source": [
    "<h3><font color='#004b87'>Question 6</font></h3>"
   ]
  },
  {
   "cell_type": "code",
   "execution_count": 7,
   "id": "a093b790",
   "metadata": {},
   "outputs": [
    {
     "name": "stdout",
     "output_type": "stream",
     "text": [
      "Enterway\n"
     ]
    }
   ],
   "source": [
    "def pig(st):\n",
    "    new = ''\n",
    "    if(st[0] == 'a' or st[0] == 'e' or st[0] == 'i' or st[0] == 'o' or \n",
    "       st[0] == 'u' or st[0] == 'A' or st[0] == 'E' or st[0] == 'I' or \n",
    "       st[0] == 'O' or st[0] == 'U'):\n",
    "        new = st+'way'\n",
    "    else:\n",
    "        first = st[0]\n",
    "        new = st[1:]\n",
    "        new = new+first+'ay'\n",
    "        new = new.lower()\n",
    "    return new\n",
    "print(pig('Enter'))"
   ]
  },
  {
   "cell_type": "markdown",
   "id": "70103df4",
   "metadata": {},
   "source": [
    "<h3><font color='#004b87'>Question 7</font></h3>\n",
    "\n",
    "#Unable to access the text file"
   ]
  },
  {
   "cell_type": "markdown",
   "id": "6621b099",
   "metadata": {},
   "source": [
    "<h3><font color='#004b87'>Question 8</font></h3>"
   ]
  },
  {
   "cell_type": "code",
   "execution_count": 9,
   "id": "1b329cd1",
   "metadata": {},
   "outputs": [
    {
     "name": "stdout",
     "output_type": "stream",
     "text": [
      "1.241401\n"
     ]
    }
   ],
   "source": [
    "def curconv(curr, amount):\n",
    "    conv_amount = 0\n",
    "    if(curr == 'JPY'):\n",
    "        conv_amount = 0.01241401*amount\n",
    "        return conv_amount\n",
    "    if(curr == 'EUR'):\n",
    "        conv_amount = 1.2296544*amount\n",
    "        return conv_amount\n",
    " \n",
    "print(curconv(\"JPY\", 100))\n"
   ]
  },
  {
   "cell_type": "markdown",
   "id": "521df13c",
   "metadata": {},
   "source": [
    "<h3><font color='#004b87'>Question 9a</font></h3>\n",
    "TypeError: unsupported operand type(s) for +: 'int' and 'str'   because we can't add a string and integer\n"
   ]
  },
  {
   "cell_type": "code",
   "execution_count": 10,
   "id": "d5762de1",
   "metadata": {},
   "outputs": [
    {
     "ename": "TypeError",
     "evalue": "unsupported operand type(s) for +: 'int' and 'str'",
     "output_type": "error",
     "traceback": [
      "\u001b[1;31m---------------------------------------------------------------------------\u001b[0m",
      "\u001b[1;31mTypeError\u001b[0m                                 Traceback (most recent call last)",
      "\u001b[1;32m~\\AppData\\Local\\Temp/ipykernel_29364/55046823.py\u001b[0m in \u001b[0;36m<module>\u001b[1;34m\u001b[0m\n\u001b[1;32m----> 1\u001b[1;33m \u001b[1;36m6\u001b[0m \u001b[1;33m+\u001b[0m \u001b[1;34m'a'\u001b[0m\u001b[1;33m\u001b[0m\u001b[1;33m\u001b[0m\u001b[0m\n\u001b[0m",
      "\u001b[1;31mTypeError\u001b[0m: unsupported operand type(s) for +: 'int' and 'str'"
     ]
    }
   ],
   "source": [
    "6 + 'a'"
   ]
  },
  {
   "cell_type": "markdown",
   "id": "eb3e9e18",
   "metadata": {},
   "source": [
    "<h3><font color='#004b87'>Question 9b</font></h3>\n",
    "IndexError: string index out of range"
   ]
  },
  {
   "cell_type": "code",
   "execution_count": 11,
   "id": "8ece06bd",
   "metadata": {},
   "outputs": [
    {
     "ename": "IndexError",
     "evalue": "string index out of range",
     "output_type": "error",
     "traceback": [
      "\u001b[1;31m---------------------------------------------------------------------------\u001b[0m",
      "\u001b[1;31mIndexError\u001b[0m                                Traceback (most recent call last)",
      "\u001b[1;32m~\\AppData\\Local\\Temp/ipykernel_29364/3414690905.py\u001b[0m in \u001b[0;36m<module>\u001b[1;34m\u001b[0m\n\u001b[0;32m      1\u001b[0m \u001b[0ms\u001b[0m \u001b[1;33m=\u001b[0m \u001b[1;34m'AppleApple'\u001b[0m\u001b[1;33m\u001b[0m\u001b[1;33m\u001b[0m\u001b[0m\n\u001b[1;32m----> 2\u001b[1;33m \u001b[0mprint\u001b[0m\u001b[1;33m(\u001b[0m\u001b[0ms\u001b[0m\u001b[1;33m[\u001b[0m\u001b[1;36m12\u001b[0m\u001b[1;33m]\u001b[0m\u001b[1;33m)\u001b[0m\u001b[1;33m\u001b[0m\u001b[1;33m\u001b[0m\u001b[0m\n\u001b[0m",
      "\u001b[1;31mIndexError\u001b[0m: string index out of range"
     ]
    }
   ],
   "source": [
    "s = 'AppleApple'\n",
    "print(s[12])"
   ]
  },
  {
   "cell_type": "markdown",
   "id": "8e741b53",
   "metadata": {},
   "source": [
    "<h3><font color='#004b87'>Question 9c</font></h3>\n",
    "ValueError: math domain error"
   ]
  },
  {
   "cell_type": "code",
   "execution_count": 12,
   "id": "0a50d8b3",
   "metadata": {},
   "outputs": [
    {
     "ename": "ValueError",
     "evalue": "math domain error",
     "output_type": "error",
     "traceback": [
      "\u001b[1;31m---------------------------------------------------------------------------\u001b[0m",
      "\u001b[1;31mValueError\u001b[0m                                Traceback (most recent call last)",
      "\u001b[1;32m~\\AppData\\Local\\Temp/ipykernel_29364/1114391229.py\u001b[0m in \u001b[0;36m<module>\u001b[1;34m\u001b[0m\n\u001b[0;32m      1\u001b[0m \u001b[1;32mimport\u001b[0m \u001b[0mmath\u001b[0m\u001b[1;33m\u001b[0m\u001b[1;33m\u001b[0m\u001b[0m\n\u001b[1;32m----> 2\u001b[1;33m \u001b[0mmath\u001b[0m\u001b[1;33m.\u001b[0m\u001b[0msqrt\u001b[0m\u001b[1;33m(\u001b[0m\u001b[1;33m-\u001b[0m\u001b[1;36m1.0\u001b[0m\u001b[1;33m)\u001b[0m\u001b[1;33m\u001b[0m\u001b[1;33m\u001b[0m\u001b[0m\n\u001b[0m",
      "\u001b[1;31mValueError\u001b[0m: math domain error"
     ]
    }
   ],
   "source": [
    "import math\n",
    "math.sqrt(-1.0)"
   ]
  },
  {
   "cell_type": "markdown",
   "id": "1aad0ecb",
   "metadata": {},
   "source": [
    "<h3><font color='#004b87'>Question 9d</font></h3>\n",
    "NameError: name 'x' is not defined"
   ]
  },
  {
   "cell_type": "code",
   "execution_count": 13,
   "id": "e73c324b",
   "metadata": {},
   "outputs": [
    {
     "ename": "NameError",
     "evalue": "name 'x' is not defined",
     "output_type": "error",
     "traceback": [
      "\u001b[1;31m---------------------------------------------------------------------------\u001b[0m",
      "\u001b[1;31mNameError\u001b[0m                                 Traceback (most recent call last)",
      "\u001b[1;32m~\\AppData\\Local\\Temp/ipykernel_29364/1353120783.py\u001b[0m in \u001b[0;36m<module>\u001b[1;34m\u001b[0m\n\u001b[1;32m----> 1\u001b[1;33m \u001b[0mprint\u001b[0m\u001b[1;33m(\u001b[0m\u001b[0mx\u001b[0m\u001b[1;33m)\u001b[0m\u001b[1;33m\u001b[0m\u001b[1;33m\u001b[0m\u001b[0m\n\u001b[0m",
      "\u001b[1;31mNameError\u001b[0m: name 'x' is not defined"
     ]
    }
   ],
   "source": [
    "print(x)"
   ]
  },
  {
   "cell_type": "markdown",
   "id": "f65799c9",
   "metadata": {},
   "source": [
    "<h3><font color='#004b87'>Question 9e</font></h3>\n",
    "FileNotFoundError: [Errno 2] No such file or directory: 'example.txt'"
   ]
  },
  {
   "cell_type": "code",
   "execution_count": 14,
   "id": "1039f41c",
   "metadata": {},
   "outputs": [
    {
     "ename": "FileNotFoundError",
     "evalue": "[Errno 2] No such file or directory: 'example.txt'",
     "output_type": "error",
     "traceback": [
      "\u001b[1;31m---------------------------------------------------------------------------\u001b[0m",
      "\u001b[1;31mFileNotFoundError\u001b[0m                         Traceback (most recent call last)",
      "\u001b[1;32m~\\AppData\\Local\\Temp/ipykernel_29364/2485811468.py\u001b[0m in \u001b[0;36m<module>\u001b[1;34m\u001b[0m\n\u001b[1;32m----> 1\u001b[1;33m \u001b[0minfile\u001b[0m \u001b[1;33m=\u001b[0m \u001b[0mopen\u001b[0m\u001b[1;33m(\u001b[0m\u001b[1;34m'example.txt'\u001b[0m\u001b[1;33m,\u001b[0m \u001b[1;34m'r'\u001b[0m\u001b[1;33m)\u001b[0m\u001b[1;33m\u001b[0m\u001b[1;33m\u001b[0m\u001b[0m\n\u001b[0m",
      "\u001b[1;31mFileNotFoundError\u001b[0m: [Errno 2] No such file or directory: 'example.txt'"
     ]
    }
   ],
   "source": [
    "infile = open('example.txt', 'r')"
   ]
  },
  {
   "cell_type": "markdown",
   "id": "31dafe81",
   "metadata": {},
   "source": [
    "<h3><font color='#004b87'>Question 10</font></h3>\n"
   ]
  },
  {
   "cell_type": "code",
   "execution_count": 15,
   "id": "10062e4d",
   "metadata": {},
   "outputs": [
    {
     "data": {
      "text/plain": [
       "[1, 1, 1, 3, 5, 1, 1, 2, 1, 0, 1, 0, 1, 2, 4, 0, 1, 2, 0, 3, 1, 0, 1, 1, 0, 0]"
      ]
     },
     "execution_count": 15,
     "metadata": {},
     "output_type": "execute_result"
    }
   ],
   "source": [
    "import string\n",
    "def frequencies(str):\n",
    "    \n",
    "    l = string.ascii_lowercase\n",
    "    u = string.ascii_uppercase\n",
    "    count = 0\n",
    "    counter = []\n",
    "    for i in range(0,26):\n",
    "        for j in str:\n",
    "            if(l[i] == j or u[i] == j):\n",
    "                count = count + 1\n",
    "        counter.append(count) \n",
    "        count = 0\n",
    "    return counter\n",
    "\n",
    "s = 'abcdefghijklmnopqrstuvwxyz'\n",
    "frequencies('The quick red fox got bored and went home.')"
   ]
  },
  {
   "cell_type": "code",
   "execution_count": null,
   "id": "8cdf5ff6",
   "metadata": {},
   "outputs": [],
   "source": []
  }
 ],
 "metadata": {
  "celltoolbar": "Slideshow",
  "kernelspec": {
   "display_name": "Python 3 (ipykernel)",
   "language": "python",
   "name": "python3"
  },
  "language_info": {
   "codemirror_mode": {
    "name": "ipython",
    "version": 3
   },
   "file_extension": ".py",
   "mimetype": "text/x-python",
   "name": "python",
   "nbconvert_exporter": "python",
   "pygments_lexer": "ipython3",
   "version": "3.9.7"
  }
 },
 "nbformat": 4,
 "nbformat_minor": 5
}
